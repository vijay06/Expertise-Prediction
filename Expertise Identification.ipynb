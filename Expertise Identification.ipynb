{
 "cells": [
  {
   "cell_type": "markdown",
   "metadata": {},
   "source": [
    "# Expertise Identification"
   ]
  },
  {
   "cell_type": "code",
   "execution_count": 1,
   "metadata": {},
   "outputs": [],
   "source": [
    "import pandas as pd\n",
    "import numpy as np"
   ]
  },
  {
   "cell_type": "code",
   "execution_count": 2,
   "metadata": {},
   "outputs": [],
   "source": [
    "from collections import Counter"
   ]
  },
  {
   "cell_type": "code",
   "execution_count": 3,
   "metadata": {},
   "outputs": [],
   "source": [
    "import matplotlib.pyplot as plt \n",
    "%matplotlib inline\n",
    "plt.rcParams[\"figure.figsize\"] = (20,7)"
   ]
  },
  {
   "cell_type": "code",
   "execution_count": 4,
   "metadata": {},
   "outputs": [],
   "source": [
    "dataset = pd.read_csv(\"data_set.csv\")"
   ]
  },
  {
   "cell_type": "markdown",
   "metadata": {},
   "source": [
    "# Data Analysis"
   ]
  },
  {
   "cell_type": "code",
   "execution_count": 5,
   "metadata": {},
   "outputs": [
    {
     "data": {
      "text/html": [
       "<div>\n",
       "<style scoped>\n",
       "    .dataframe tbody tr th:only-of-type {\n",
       "        vertical-align: middle;\n",
       "    }\n",
       "\n",
       "    .dataframe tbody tr th {\n",
       "        vertical-align: top;\n",
       "    }\n",
       "\n",
       "    .dataframe thead th {\n",
       "        text-align: right;\n",
       "    }\n",
       "</style>\n",
       "<table border=\"1\" class=\"dataframe\">\n",
       "  <thead>\n",
       "    <tr style=\"text-align: right;\">\n",
       "      <th></th>\n",
       "      <th>Content</th>\n",
       "      <th>Expertise</th>\n",
       "    </tr>\n",
       "  </thead>\n",
       "  <tbody>\n",
       "    <tr>\n",
       "      <th>0</th>\n",
       "      <td>Jean Christophe AMY Partner Structure Division...</td>\n",
       "      <td>Mergers And Acquisitions</td>\n",
       "    </tr>\n",
       "    <tr>\n",
       "      <th>1</th>\n",
       "      <td>Guillaume ANSALONI Partner Structure Division ...</td>\n",
       "      <td>Corporate Law (M&amp;A, Private Equity And Company...</td>\n",
       "    </tr>\n",
       "    <tr>\n",
       "      <th>2</th>\n",
       "      <td>Franck BAUCHET Partner Structure Division Fran...</td>\n",
       "      <td>Tax Structuring</td>\n",
       "    </tr>\n",
       "    <tr>\n",
       "      <th>3</th>\n",
       "      <td>Didier BRUERE-DAWSON Partner Structure Divisio...</td>\n",
       "      <td>Litigation (M&amp;A And Financing Projects)</td>\n",
       "    </tr>\n",
       "    <tr>\n",
       "      <th>4</th>\n",
       "      <td>Catherine CASTRO Partner Structure Division Ca...</td>\n",
       "      <td>Real Estate</td>\n",
       "    </tr>\n",
       "  </tbody>\n",
       "</table>\n",
       "</div>"
      ],
      "text/plain": [
       "                                             Content  \\\n",
       "0  Jean Christophe AMY Partner Structure Division...   \n",
       "1  Guillaume ANSALONI Partner Structure Division ...   \n",
       "2  Franck BAUCHET Partner Structure Division Fran...   \n",
       "3  Didier BRUERE-DAWSON Partner Structure Divisio...   \n",
       "4  Catherine CASTRO Partner Structure Division Ca...   \n",
       "\n",
       "                                           Expertise  \n",
       "0                           Mergers And Acquisitions  \n",
       "1  Corporate Law (M&A, Private Equity And Company...  \n",
       "2                                    Tax Structuring  \n",
       "3            Litigation (M&A And Financing Projects)  \n",
       "4                                        Real Estate  "
      ]
     },
     "execution_count": 5,
     "metadata": {},
     "output_type": "execute_result"
    }
   ],
   "source": [
    "dataset.head()"
   ]
  },
  {
   "cell_type": "code",
   "execution_count": 6,
   "metadata": {},
   "outputs": [],
   "source": [
    "x = dataset.iloc[:,0].values"
   ]
  },
  {
   "cell_type": "code",
   "execution_count": 7,
   "metadata": {},
   "outputs": [],
   "source": [
    "y = dataset.iloc[:,1].values "
   ]
  },
  {
   "cell_type": "code",
   "execution_count": 8,
   "metadata": {},
   "outputs": [],
   "source": [
    "l = Counter(y).keys() # equals to list(set(words))\n",
    "c = Counter(y).values() # counts the elements' frequency"
   ]
  },
  {
   "cell_type": "code",
   "execution_count": 9,
   "metadata": {},
   "outputs": [
    {
     "name": "stdout",
     "output_type": "stream",
     "text": [
      "No of category : 80\n"
     ]
    }
   ],
   "source": [
    "print(\"No of category :\",len(l))"
   ]
  },
  {
   "cell_type": "code",
   "execution_count": 10,
   "metadata": {},
   "outputs": [
    {
     "name": "stdout",
     "output_type": "stream",
     "text": [
      "{'Mergers And Acquisitions': 3, 'Corporate Law (M&A, Private Equity And Company Law)': 1, 'Tax Structuring': 1, 'Litigation (M&A And Financing Projects)': 1, 'Real Estate': 2, 'Mergers & Acquisitions': 2, 'Litigation In Intellectual Property Law(Copyright, Neighbouring Rights, Trademarks, Designs And Patents)': 1, 'Litigation And Arbitration': 1, 'Regulatory Issues': 1, 'Legal, Tax, Labour And Refinancing Issues': 1, 'Business Law': 4, 'Real Estate Law': 3, 'Intellectual Property': 12, 'Labor & Employment Law Matters': 1, 'Computer Security': 1, 'European Law (Litigation And Transaction)': 1, 'Information Technology': 1, 'Banking And Finance Law': 2, 'Health And Especially In The Fields Of Pharmaceuticals And Biotechnology': 1, 'French And International Tax': 1, 'Pre-Litigation': 1, 'Antitrust And European Union Law': 1, 'Litigation': 4, 'Antitrust': 1, 'Corporate Law': 6, 'Dispute Resolution/Arbitration': 1, 'Banking And Finance': 2, 'International And Domestic Arbitration': 1, 'Media': 1, 'Tax Advice And Tax Litigation': 1, 'Banking And Financial Law': 1, 'R&D': 1, 'Intellectual Property Crises Litigation': 1, 'Technologies': 1, 'Project And Structured Finance': 1, 'Competition Law': 1, 'Corporate Litigation': 2, 'Dispute Litigation': 1, 'European Law (Transactions And Litigation)': 1, 'Criminal Law': 1, 'Media Law': 1, 'Litigation And Pre-Litigation': 2, 'Employment': 1, 'Corporate And Private Client Tax Law': 1, 'Private Equity': 1, 'Corporate Business Law': 2, 'Intellectual Property (Including Copyright': 1, 'Public Law': 6, 'Tax': 1, 'Intellectual Property (Trademarks': 2, 'Community': 1, 'Property Law': 1, 'Corporate Finance': 1, 'Financing': 1, 'Tax Law': 3, 'Ip Law': 1, 'Business Litigation And Pre-Litigation': 1, 'Bankruptcy Proceedings': 2, 'Economic Public Law': 2, 'Employment Law': 1, 'New Technology Law': 1, 'Intellectual Property Law': 3, 'Corporate Tax Management And Strategy': 1, 'Corporate Law,Mergers & Acquisitions': 1, 'Contract': 1, 'Labour Law': 1, 'Real Estate Matters': 1, 'Tax Advice': 1, 'Not Available': 3, 'Liability law': 1, 'Corporate': 3, 'Natural resources': 1, 'e-health': 1, 'M&A-Corporate': 1, 'Commercial Law': 1, 'Commercial': 1, 'business': 1, 'Investment Funds': 1, 'Labor': 1, 'Project finance': 1}\n"
     ]
    }
   ],
   "source": [
    "data={}\n",
    "for i , j in  zip(l,c) :\n",
    "    data[i]=j\n",
    "print(data)    "
   ]
  },
  {
   "cell_type": "code",
   "execution_count": 11,
   "metadata": {},
   "outputs": [
    {
     "data": {
      "text/plain": [
       "Text(0,0.5,'no of records')"
      ]
     },
     "execution_count": 11,
     "metadata": {},
     "output_type": "execute_result"
    },
    {
     "data": {
      "image/png": "[encoded data removed]",
      "text/plain": [
       "<Figure size 1440x504 with 1 Axes>"
      ]
     },
     "metadata": {},
     "output_type": "display_data"
    }
   ],
   "source": [
    "lables = list(set(y))\n",
    "count_classes = pd.value_counts(dataset['Expertise'], sort = True)\n",
    "count_classes.plot(kind = 'bar', rot=0)\n",
    "plt.title(\"Data distribution\")\n",
    "plt.ylabel(\"no of records\")"
   ]
  },
  {
   "cell_type": "markdown",
   "metadata": {},
   "source": [
    "# Reason to choose model"
   ]
  },
  {
   "cell_type": "markdown",
   "metadata": {},
   "source": [
    "It seems like the imbalance class distribution,so it s little hard to train and get good accuracy!!\n",
    "\n",
    "Below are the approcah we can do for this problem \n",
    "\n",
    "1) Bi-directional LSTM or GRU classifier ( But need more data ).\n",
    "\n",
    "2) Generate Expetise  using LSTM autoencoder ( But Need More data)\n",
    "\n",
    "\n",
    "We can generated data using below data agumentation technique  \n",
    "ref : https://towardsdatascience.com/data-augmentation-for-text-data-obtain-more-data-faster-525f7957acc9\n",
    "but due to  multi class and imbalance class distribution we cant do it .\n",
    "\n",
    "\n",
    "3) finally we can use NLP to extract patten by builting custom Phrase Matchers,Best tools to do is NLTK,SPACY,TEXTBLOB .I chossed Spacy (https://spacy.io/api/) to solve this problem .\n",
    "\n"
   ]
  },
  {
   "cell_type": "markdown",
   "metadata": {},
   "source": [
    "# Installation "
   ]
  },
  {
   "cell_type": "markdown",
   "metadata": {},
   "source": [
    "!conda install -c danielfrg spacy-en_core_web_sm  -y"
   ]
  },
  {
   "cell_type": "markdown",
   "metadata": {},
   "source": [
    "# BUILT"
   ]
  },
  {
   "cell_type": "code",
   "execution_count": 12,
   "metadata": {},
   "outputs": [
    {
     "name": "stderr",
     "output_type": "stream",
     "text": [
      "/home/vijay/anaconda3/lib/python3.6/site-packages/requests/__init__.py:80: RequestsDependencyWarning: urllib3 (1.24.1) or chardet (3.0.4) doesn't match a supported version!\n",
      "  RequestsDependencyWarning)\n"
     ]
    }
   ],
   "source": [
    "import en_core_web_sm\n",
    "nlp = en_core_web_sm.load()\n",
    "from spacy.matcher import PhraseMatcher"
   ]
  },
  {
   "cell_type": "code",
   "execution_count": 13,
   "metadata": {},
   "outputs": [],
   "source": [
    "patten = ['Real Estate Matters',\n",
    " 'Intellectual Property Law',\n",
    " 'Public Law',\n",
    " 'Private Equity',\n",
    " 'Property Law',\n",
    " 'International And Domestic Arbitration',\n",
    " 'Financing',\n",
    " 'Information Technology',\n",
    " 'Not Available',\n",
    " 'Commercial',\n",
    " 'Pre-Litigation',\n",
    " 'e-health',\n",
    " 'Litigation And Pre-Litigation',\n",
    " 'Corporate Law (M&A,',\n",
    " 'Private Equity And Company Law)'\n",
    " 'Corporate Law',\n",
    " 'Tax',\n",
    " 'Antitrust And European Union Law',\n",
    " 'Litigation (M&A And Financing Projects)',\n",
    " 'R&D',\n",
    " 'Criminal Law',\n",
    " 'Corporate And Private Client Tax Law',\n",
    " 'Banking And Finance',\n",
    " 'Project And Structured Finance',\n",
    " 'Employment',\n",
    " 'New Technology Law',\n",
    " 'Tax Advice',\n",
    " 'business',\n",
    " 'Dispute Litigation',\n",
    " 'Contract',\n",
    " 'Intellectual Property',\n",
    " 'French And International Tax',\n",
    " 'Banking And Finance Law',\n",
    " 'Mergers & Acquisitions',\n",
    " 'Natural resources',\n",
    " 'Employment Law',\n",
    " 'Tax Law',\n",
    " 'Mergers And Acquisitions',\n",
    " 'merger and acquisitions',\n",
    " 'M&A-Corporate',\n",
    " 'Dispute Resolution/Arbitration',\n",
    " 'Investment Funds',\n",
    " 'Tax Advice And Tax Litigation',\n",
    " 'Corporate Finance',\n",
    " 'Commercial Law',\n",
    " 'Banking & Finance',\n",
    " 'Capital Market',\n",
    " 'Litigation',\n",
    " 'Litigation And Arbitration',\n",
    " 'Business Law',\n",
    " 'Corporate',\n",
    " 'Regulatory Issues',\n",
    " 'Community',\n",
    " 'Real Estate',\n",
    " 'Labour Law',\n",
    " 'Bankruptcy Proceedings',\n",
    " 'Labor & Employment Law Matters',\n",
    " 'Tax Structuring',\n",
    " 'European Law (Litigation And Transaction)',\n",
    " 'European Law'\n",
    " 'Corporate Law,Mergers & Acquisitions',\n",
    " 'Intellectual Property Crises Litigation',\n",
    " 'Real Estate Law',\n",
    " 'Computer Security',\n",
    " 'Antitrust',\n",
    " 'Media',\n",
    " 'Competition Law',\n",
    " 'Ip Law',\n",
    " 'Business Litigation And Pre-Litigation',\n",
    " 'Project finance',\n",
    " 'Pharmaceuticals ',\n",
    " 'Pharmaceuticals and Biotechnology',\n",
    " 'Corporate Litigation',\n",
    " 'Economic Public Law',\n",
    " 'Corporate Tax Management And Strategy',\n",
    " 'Legal, Tax, Labour',\n",
    " 'Refinancing Issues',         \n",
    " 'Technologies',\n",
    " 'European Law (Transactions And Litigation)',\n",
    " 'Labor',\n",
    " 'Corporate Business Law',\n",
    " 'Liability law',\n",
    " 'Media Law',\n",
    " 'Litigation In Intellectual Property Law',\n",
    " 'arbitration',\n",
    " 'Healthcare Law',\n",
    " 'software anti-piracy',\n",
    " 'cyber criminality',\n",
    " 'fund structuring',\n",
    " 'asset management',\n",
    " 'IP-related']"
   ]
  },
  {
   "cell_type": "code",
   "execution_count": 14,
   "metadata": {},
   "outputs": [],
   "source": [
    "keywords=[\n",
    "'experienced ',\n",
    "'expertise in ',\n",
    "'focuses on ',\n",
    "'experience in ',\n",
    "'involved in ',\n",
    "'specialised in ',\n",
    "'specialises in '    \n",
    "]"
   ]
  },
  {
   "cell_type": "code",
   "execution_count": 15,
   "metadata": {},
   "outputs": [],
   "source": [
    "new_patten=[]\n",
    "reg_patten=[]\n",
    "\n",
    "for i in keywords:\n",
    "    for j in patten:\n",
    "        if len((i+j).split()) >10:\n",
    "            reg_patten.append(i+j)\n",
    "        else:\n",
    "            new_patten.append(i+j)\n",
    "new_patten= new_patten+patten\n",
    "    "
   ]
  },
  {
   "cell_type": "code",
   "execution_count": 16,
   "metadata": {},
   "outputs": [],
   "source": [
    "Expertise_patterns = [nlp(text) for text in [x.lower() for x in new_patten]]\n",
    "matcher = PhraseMatcher(nlp.vocab)\n",
    "matcher.add('Expertise', None, *Expertise_patterns)"
   ]
  },
  {
   "cell_type": "code",
   "execution_count": 17,
   "metadata": {},
   "outputs": [],
   "source": [
    "def edu_preprocess(x):\n",
    "    education_patterns = [nlp(text) for text in ['education']]\n",
    "    education = PhraseMatcher(nlp.vocab)\n",
    "    education.add('Expertise', None, *education_patterns)\n",
    "    \n",
    "    doc = nlp(x.lower())\n",
    "    education_content = education(doc)\n",
    "    #print(education_content)\n",
    "    \n",
    "    content=''\n",
    "    if len(education_content) > 0:\n",
    "        #print('inside')\n",
    "        for match_id, start, end in education_content:\n",
    "            #rule_id = nlp.vocab.strings[match_id]  \n",
    "            span = doc[0:start]\n",
    "            content = span.text\n",
    "        return content  \n",
    "\n",
    "    return x"
   ]
  },
  {
   "cell_type": "code",
   "execution_count": 18,
   "metadata": {},
   "outputs": [],
   "source": [
    "def find_with_expertise(x):\n",
    "    inp = edu_preprocess(x)\n",
    "    doc = nlp(inp.lower())\n",
    "    matches = matcher(doc)\n",
    "    data =[]\n",
    "    for match_id, start, end in matches:\n",
    "        span = doc[start : end]  \n",
    "        #data.append(span.text)\n",
    "        s = span.text.split()[0]\n",
    "        if s in ['experienced','focuses','expertise','experience','involved','specialised','specialises']:\n",
    "            data.append(span.text)\n",
    "    if not data:\n",
    "        return False\n",
    "    else:\n",
    "        a =max(data, key=len)\n",
    "        res=\"\"\n",
    "        if a.startswith('experienced '):\n",
    "            res = a.replace(\"experienced \",\"\")\n",
    "            \n",
    "        elif a.startswith('expertise'):\n",
    "            res = a.replace(\"expertise in \",\"\")\n",
    "            \n",
    "        elif a.startswith('focuses'):\n",
    "            res = a.replace(\"focuses on \",\"\")\n",
    "            \n",
    "        elif a.startswith('experience'):\n",
    "            res = a.replace(\"experience in \",\"\")\n",
    "            \n",
    "        elif a.startswith('involved'):\n",
    "            res = a.replace(\"involved in \",\"\")\n",
    "            \n",
    "        elif a.startswith('specialised'):\n",
    "            res = a.replace(\"specialised in \",\"\")\n",
    "            \n",
    "        elif a.startswith('specialises'):\n",
    "            res = a.replace(\"specialises in \",\"\")\n",
    "        \n",
    "        return res            "
   ]
  },
  {
   "cell_type": "code",
   "execution_count": 19,
   "metadata": {},
   "outputs": [],
   "source": [
    "def find_without_expertise(x):\n",
    "    inp = edu_preprocess(x)\n",
    "    #print(inp)\n",
    "    doc = nlp(inp.lower())\n",
    "    matches = matcher(doc)\n",
    "    data =[]\n",
    "    for match_id, start, end in matches:\n",
    "        span = doc[start : end]  \n",
    "        #data.append(span.text)\n",
    "        s = span.text.split()[0]\n",
    "        data.append(span.text)\n",
    "    return (list(set(data)))"
   ]
  },
  {
   "cell_type": "code",
   "execution_count": 20,
   "metadata": {},
   "outputs": [],
   "source": [
    "def output(x):\n",
    "    if not find_with_expertise(x):\n",
    "        #print(\"test\")\n",
    "        return(find_without_expertise(x))\n",
    "    else:\n",
    "        return [(find_with_expertise(x))]"
   ]
  },
  {
   "cell_type": "markdown",
   "metadata": {},
   "source": [
    "# Predictions"
   ]
  },
  {
   "cell_type": "code",
   "execution_count": 21,
   "metadata": {},
   "outputs": [],
   "source": [
    "test = pd.read_csv(\"target.csv\")"
   ]
  },
  {
   "cell_type": "code",
   "execution_count": 22,
   "metadata": {},
   "outputs": [],
   "source": [
    "data={}\n",
    "res=[]\n",
    "for index, row in test.iterrows():\n",
    "    data = {'Content': row[0],'Expertise': output(row[0])}\n",
    "    res.append(data)\n",
    "    \n",
    "df = pd.DataFrame(data=res, columns=['Content','Expertise'])"
   ]
  },
  {
   "cell_type": "code",
   "execution_count": 23,
   "metadata": {},
   "outputs": [
    {
     "data": {
      "text/html": [
       "<div>\n",
       "<style scoped>\n",
       "    .dataframe tbody tr th:only-of-type {\n",
       "        vertical-align: middle;\n",
       "    }\n",
       "\n",
       "    .dataframe tbody tr th {\n",
       "        vertical-align: top;\n",
       "    }\n",
       "\n",
       "    .dataframe thead th {\n",
       "        text-align: right;\n",
       "    }\n",
       "</style>\n",
       "<table border=\"1\" class=\"dataframe\">\n",
       "  <thead>\n",
       "    <tr style=\"text-align: right;\">\n",
       "      <th></th>\n",
       "      <th>Content</th>\n",
       "      <th>Expertise</th>\n",
       "    </tr>\n",
       "  </thead>\n",
       "  <tbody>\n",
       "    <tr>\n",
       "      <th>0</th>\n",
       "      <td>Anne-Sophie LECLERC Associate Structure Divisi...</td>\n",
       "      <td>[business, litigation]</td>\n",
       "    </tr>\n",
       "    <tr>\n",
       "      <th>1</th>\n",
       "      <td>Laura PLOY Associate Operations Division Laura...</td>\n",
       "      <td>[public law]</td>\n",
       "    </tr>\n",
       "    <tr>\n",
       "      <th>2</th>\n",
       "      <td>Brice MATHIEU Senior Counsel Structure Divisio...</td>\n",
       "      <td>[private equity]</td>\n",
       "    </tr>\n",
       "    <tr>\n",
       "      <th>3</th>\n",
       "      <td>Laurence VANDERSTRAETE Senior Associate Struct...</td>\n",
       "      <td>[natural resources, business law, business]</td>\n",
       "    </tr>\n",
       "    <tr>\n",
       "      <th>4</th>\n",
       "      <td>Alix MOREAU Paralegal Operations Division Alix...</td>\n",
       "      <td>[intellectual property]</td>\n",
       "    </tr>\n",
       "  </tbody>\n",
       "</table>\n",
       "</div>"
      ],
      "text/plain": [
       "                                             Content  \\\n",
       "0  Anne-Sophie LECLERC Associate Structure Divisi...   \n",
       "1  Laura PLOY Associate Operations Division Laura...   \n",
       "2  Brice MATHIEU Senior Counsel Structure Divisio...   \n",
       "3  Laurence VANDERSTRAETE Senior Associate Struct...   \n",
       "4  Alix MOREAU Paralegal Operations Division Alix...   \n",
       "\n",
       "                                     Expertise  \n",
       "0                       [business, litigation]  \n",
       "1                                 [public law]  \n",
       "2                             [private equity]  \n",
       "3  [natural resources, business law, business]  \n",
       "4                      [intellectual property]  "
      ]
     },
     "execution_count": 23,
     "metadata": {},
     "output_type": "execute_result"
    }
   ],
   "source": [
    "df.head()"
   ]
  },
  {
   "cell_type": "code",
   "execution_count": 24,
   "metadata": {},
   "outputs": [],
   "source": [
    "df.to_csv(\"Target_output.csv\", encoding='utf-8', index=False)"
   ]
  },
  {
   "cell_type": "markdown",
   "metadata": {},
   "source": [
    "# Conclusion "
   ]
  },
  {
   "cell_type": "markdown",
   "metadata": {},
   "source": [
    "Successfully the model can able to extract the expetise from content.By anaysing the the conetent it seems like  for some content have multiple domain expertise. "
   ]
  }
 ],
 "metadata": {
  "kernelspec": {
   "display_name": "Python 3",
   "language": "python",
   "name": "python3"
  },
  "language_info": {
   "codemirror_mode": {
    "name": "ipython",
    "version": 3
   },
   "file_extension": ".py",
   "mimetype": "text/x-python",
   "name": "python",
   "nbconvert_exporter": "python",
   "pygments_lexer": "ipython3",
   "version": "3.6.8"
  }
 },
 "nbformat": 4,
 "nbformat_minor": 2
}
